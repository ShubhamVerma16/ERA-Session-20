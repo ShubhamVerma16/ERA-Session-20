{
 "cells": [
  {
   "cell_type": "code",
   "execution_count": 2,
   "id": "24157f82-8b7f-445e-9121-76da8e1be46c",
   "metadata": {},
   "outputs": [
    {
     "name": "stderr",
     "output_type": "stream",
     "text": [
      "'wget' is not recognized as an internal or external command,\n",
      "operable program or batch file.\n"
     ]
    }
   ],
   "source": [
    "!wget https://raw.githubusercontent.com/karpathy/char-rnn/master/data/tinyshakespeare/input.txt"
   ]
  },
  {
   "cell_type": "code",
   "execution_count": 1,
   "id": "0dddcb91-72a8-4240-83fd-20262992a233",
   "metadata": {},
   "outputs": [],
   "source": [
    "with open('input.txt', 'r', encoding='utf-8') as f:\n",
    "    text = f.read()"
   ]
  },
  {
   "cell_type": "code",
   "execution_count": 2,
   "id": "cb177a90-b099-4754-ba1d-9fa7fcb8ea70",
   "metadata": {},
   "outputs": [
    {
     "name": "stdout",
     "output_type": "stream",
     "text": [
      "length of text:  1115393\n"
     ]
    }
   ],
   "source": [
    "print(\"length of text: \", len(text))"
   ]
  },
  {
   "cell_type": "code",
   "execution_count": 3,
   "id": "9fcc9dc4-5a6f-496e-820e-804010a8b078",
   "metadata": {},
   "outputs": [
    {
     "name": "stdout",
     "output_type": "stream",
     "text": [
      "First Citizen:\n",
      "Before we proceed any further, hear me speak.\n",
      "\n",
      "All:\n",
      "Speak, speak.\n",
      "\n",
      "First Citizen:\n",
      "You are all resolved rather to die than to famish?\n",
      "\n",
      "All:\n",
      "Resolved. resolved.\n",
      "\n",
      "First Citizen:\n",
      "First, you know Caius Marcius is chief enemy to the people.\n",
      "\n",
      "All:\n",
      "We know't, we know't.\n",
      "\n",
      "First Citizen:\n",
      "Let us kill him, and we'll have corn at our own price.\n",
      "Is't a verdict?\n",
      "\n",
      "All:\n",
      "No more talking on't; let it be done: away, away!\n",
      "\n",
      "Second Citizen:\n",
      "One word, good citizens.\n",
      "\n",
      "First Citizen:\n",
      "We are accounted poor citizens, the patricians good.\n",
      "What authority surfeits on would relieve us: if they\n",
      "would yield us but the superfluity, while it were\n",
      "wholesome, we might guess they relieved us humanely;\n",
      "but they think we are too dear: the leanness that\n",
      "afflicts us, the object of our misery, is as an\n",
      "inventory to particularise their abundance; our\n",
      "sufferance is a gain to them Let us revenge this with\n",
      "our pikes, ere we become rakes: for the gods know I\n",
      "speak this in hunger for bread, not in thirst for revenge.\n",
      "\n",
      "\n"
     ]
    }
   ],
   "source": [
    "print(text[:1000])"
   ]
  },
  {
   "cell_type": "code",
   "execution_count": 4,
   "id": "6ebb8963-a022-41c2-9762-af3cc4311d47",
   "metadata": {},
   "outputs": [
    {
     "name": "stdout",
     "output_type": "stream",
     "text": [
      "\n",
      " !$&',-.3:;?ABCDEFGHIJKLMNOPQRSTUVWXYZabcdefghijklmnopqrstuvwxyz\n",
      "65\n"
     ]
    }
   ],
   "source": [
    "# unique tokens\n",
    "chars = sorted(list(set(text)))\n",
    "vocab_size = len(chars)\n",
    "print(''.join(chars))\n",
    "print(vocab_size)\n"
   ]
  },
  {
   "cell_type": "code",
   "execution_count": 5,
   "id": "ad81b3f5-2913-4a32-b1d1-7c50e36a7052",
   "metadata": {},
   "outputs": [],
   "source": [
    "stoi = {ch:i for i, ch in enumerate(text)}\n",
    "itos = {i:ch for i, ch in enumerate(text)}\n",
    "\n",
    "encode = lambda s: [stoi[c] for c in s]\n",
    "decode = lambda l: ''.join([itos[i] for i in l])"
   ]
  },
  {
   "cell_type": "code",
   "execution_count": 6,
   "id": "197107ce-cf8d-48e1-8ccf-672e656bdc41",
   "metadata": {},
   "outputs": [
    {
     "data": {
      "text/plain": [
       "[1115378,\n",
       " 1115389,\n",
       " 1115389,\n",
       " 1115385,\n",
       " 1115384,\n",
       " 1115378,\n",
       " 1115374,\n",
       " 1115383,\n",
       " 1115374]"
      ]
     },
     "execution_count": 6,
     "metadata": {},
     "output_type": "execute_result"
    }
   ],
   "source": [
    "encode(\"hii there\")"
   ]
  },
  {
   "cell_type": "code",
   "execution_count": 7,
   "id": "d029a42d-fe41-49bd-8e6c-6a6187855e24",
   "metadata": {},
   "outputs": [
    {
     "data": {
      "text/plain": [
       "'hi there'"
      ]
     },
     "execution_count": 7,
     "metadata": {},
     "output_type": "execute_result"
    }
   ],
   "source": [
    "decode(encode(\"hi there\"))"
   ]
  },
  {
   "cell_type": "code",
   "execution_count": 8,
   "id": "137e0314-5e13-4e5a-8152-2301c777b970",
   "metadata": {},
   "outputs": [
    {
     "name": "stdout",
     "output_type": "stream",
     "text": [
      "torch.Size([1115393]) torch.int64\n",
      "tensor([1111924, 1115389, 1115383, 1115375, 1115384, 1115385, 1110567, 1115389,\n",
      "        1115384, 1115389, 1113189, 1115374, 1115390, 1115299, 1115369, 1115066,\n",
      "        1115374, 1115334, 1115379, 1115383, 1115374, 1115385, 1115386, 1115374,\n",
      "        1115385, 1115346, 1115383, 1115379, 1114962, 1115374, 1115374, 1115349,\n",
      "        1115385, 1115387, 1115390, 1115332, 1115385, 1115334, 1115380, 1115383,\n",
      "        1115384, 1115378, 1115374, 1115383, 1115352, 1115385, 1115378, 1115374,\n",
      "        1115387, 1115383, 1115385, 1115259, 1115374, 1115385, 1115375, 1115346,\n",
      "        1115374, 1115387, 1115388, 1115392, 1115369, 1115369, 1115292, 1115373,\n",
      "        1115373, 1115299, 1115369, 1115307, 1115346, 1115374, 1115387, 1115388,\n",
      "        1115352, 1115385, 1115375, 1115346, 1115374, 1115387, 1115388, 1115392,\n",
      "        1115369, 1115369, 1111924, 1115389, 1115383, 1115375, 1115384, 1115385,\n",
      "        1110567, 1115389, 1115384, 1115389, 1113189, 1115374, 1115390, 1115299,\n",
      "        1115369, 1113707, 1115379, 1115380])\n"
     ]
    }
   ],
   "source": [
    "# create tensor out of it\n",
    "import torch\n",
    "\n",
    "data = torch.tensor(encode(text), dtype=torch.long)\n",
    "print(data.shape, data.dtype)\n",
    "print(data[:100])"
   ]
  },
  {
   "cell_type": "code",
   "execution_count": 9,
   "id": "f6c5e186-2d9b-4d0a-b23e-bc55f45681cd",
   "metadata": {},
   "outputs": [
    {
     "data": {
      "text/plain": [
       "104"
      ]
     },
     "execution_count": 9,
     "metadata": {},
     "output_type": "execute_result"
    }
   ],
   "source": [
    "ord(\"h\")"
   ]
  },
  {
   "cell_type": "code",
   "execution_count": 10,
   "id": "4ff3d43b-08d3-423c-8cca-64bf034e765a",
   "metadata": {},
   "outputs": [
    {
     "data": {
      "text/plain": [
       "([2360,\n",
       "  2367,\n",
       "  2344,\n",
       "  2375,\n",
       "  2350,\n",
       "  2366,\n",
       "  32,\n",
       "  2348,\n",
       "  2368,\n",
       "  2360,\n",
       "  2357,\n",
       "  2368,\n",
       "  2306,\n",
       "  32,\n",
       "  2358,\n",
       "  2340,\n",
       "  2366,\n",
       "  2348,\n",
       "  2381,\n",
       "  2342,\n",
       "  2368,\n",
       "  32,\n",
       "  2325,\n",
       "  2368,\n",
       "  32,\n",
       "  2360,\n",
       "  2352,\n",
       "  2381,\n",
       "  2357,\n",
       "  2366,\n",
       "  2343,\n",
       "  2367,\n",
       "  2325,\n",
       "  32,\n",
       "  2354,\n",
       "  2379,\n",
       "  2325,\n",
       "  2346,\n",
       "  2381,\n",
       "  2352,\n",
       "  2367,\n",
       "  2351,\n",
       "  32,\n",
       "  2325,\n",
       "  2354,\n",
       "  2366,\n",
       "  32,\n",
       "  2361,\n",
       "  2376,\n",
       "  32,\n",
       "  2332,\n",
       "  2367,\n",
       "  2360,\n",
       "  2375,\n",
       "  32,\n",
       "  2346,\n",
       "  2381,\n",
       "  2352,\n",
       "  2325,\n",
       "  2366,\n",
       "  2358,\n",
       "  32,\n",
       "  2357,\n",
       "  2367,\n",
       "  2332,\n",
       "  2381,\n",
       "  2334,\n",
       "  2366,\n",
       "  2344,\n",
       "  44,\n",
       "  32,\n",
       "  2352,\n",
       "  2360,\n",
       "  2366,\n",
       "  2351,\n",
       "  2344,\n",
       "  32,\n",
       "  2357,\n",
       "  2367,\n",
       "  2332,\n",
       "  2381,\n",
       "  2334,\n",
       "  2366,\n",
       "  2344],\n",
       " 84)"
      ]
     },
     "execution_count": 10,
     "metadata": {},
     "output_type": "execute_result"
    }
   ],
   "source": [
    "k = [ord(x) for x in \"सिनेमा बीसवीं शताब्दी की सर्वाधिक लोकप्रिय कला है जिसे प्रकाश विज्ञान, रसायन विज्ञान\"]\n",
    "k, len(k)"
   ]
  },
  {
   "cell_type": "code",
   "execution_count": 13,
   "id": "d2012cad-907f-481d-8064-50a6579be976",
   "metadata": {},
   "outputs": [
    {
     "data": {
      "text/plain": [
       "([224,\n",
       "  164,\n",
       "  184,\n",
       "  224,\n",
       "  164,\n",
       "  191,\n",
       "  224,\n",
       "  164,\n",
       "  168,\n",
       "  224,\n",
       "  165,\n",
       "  135,\n",
       "  224,\n",
       "  164,\n",
       "  174,\n",
       "  224,\n",
       "  164,\n",
       "  190,\n",
       "  32,\n",
       "  224,\n",
       "  164,\n",
       "  172,\n",
       "  224,\n",
       "  165,\n",
       "  128,\n",
       "  224,\n",
       "  164,\n",
       "  184,\n",
       "  224,\n",
       "  164,\n",
       "  181,\n",
       "  224,\n",
       "  165,\n",
       "  128,\n",
       "  224,\n",
       "  164,\n",
       "  130,\n",
       "  32,\n",
       "  224,\n",
       "  164,\n",
       "  182,\n",
       "  224,\n",
       "  164,\n",
       "  164,\n",
       "  224,\n",
       "  164,\n",
       "  190,\n",
       "  224,\n",
       "  164,\n",
       "  172,\n",
       "  224,\n",
       "  165,\n",
       "  141,\n",
       "  224,\n",
       "  164,\n",
       "  166,\n",
       "  224,\n",
       "  165,\n",
       "  128,\n",
       "  32,\n",
       "  224,\n",
       "  164,\n",
       "  149,\n",
       "  224,\n",
       "  165,\n",
       "  128,\n",
       "  32,\n",
       "  224,\n",
       "  164,\n",
       "  184,\n",
       "  224,\n",
       "  164,\n",
       "  176,\n",
       "  224,\n",
       "  165,\n",
       "  141,\n",
       "  224,\n",
       "  164,\n",
       "  181,\n",
       "  224,\n",
       "  164,\n",
       "  190,\n",
       "  224,\n",
       "  164,\n",
       "  167,\n",
       "  224,\n",
       "  164,\n",
       "  191,\n",
       "  224,\n",
       "  164,\n",
       "  149,\n",
       "  32,\n",
       "  224,\n",
       "  164,\n",
       "  178,\n",
       "  224,\n",
       "  165,\n",
       "  139,\n",
       "  224,\n",
       "  164,\n",
       "  149,\n",
       "  224,\n",
       "  164,\n",
       "  170,\n",
       "  224,\n",
       "  165,\n",
       "  141,\n",
       "  224,\n",
       "  164,\n",
       "  176,\n",
       "  224,\n",
       "  164,\n",
       "  191,\n",
       "  224,\n",
       "  164,\n",
       "  175,\n",
       "  32,\n",
       "  224,\n",
       "  164,\n",
       "  149,\n",
       "  224,\n",
       "  164,\n",
       "  178,\n",
       "  224,\n",
       "  164,\n",
       "  190,\n",
       "  32,\n",
       "  224,\n",
       "  164,\n",
       "  185,\n",
       "  224,\n",
       "  165,\n",
       "  136,\n",
       "  32,\n",
       "  224,\n",
       "  164,\n",
       "  156,\n",
       "  224,\n",
       "  164,\n",
       "  191,\n",
       "  224,\n",
       "  164,\n",
       "  184,\n",
       "  224,\n",
       "  165,\n",
       "  135,\n",
       "  32,\n",
       "  224,\n",
       "  164,\n",
       "  170,\n",
       "  224,\n",
       "  165,\n",
       "  141,\n",
       "  224,\n",
       "  164,\n",
       "  176,\n",
       "  224,\n",
       "  164,\n",
       "  149,\n",
       "  224,\n",
       "  164,\n",
       "  190,\n",
       "  224,\n",
       "  164,\n",
       "  182,\n",
       "  32,\n",
       "  224,\n",
       "  164,\n",
       "  181,\n",
       "  224,\n",
       "  164,\n",
       "  191,\n",
       "  224,\n",
       "  164,\n",
       "  156,\n",
       "  224,\n",
       "  165,\n",
       "  141,\n",
       "  224,\n",
       "  164,\n",
       "  158,\n",
       "  224,\n",
       "  164,\n",
       "  190,\n",
       "  224,\n",
       "  164,\n",
       "  168,\n",
       "  44,\n",
       "  32,\n",
       "  224,\n",
       "  164,\n",
       "  176,\n",
       "  224,\n",
       "  164,\n",
       "  184,\n",
       "  224,\n",
       "  164,\n",
       "  190,\n",
       "  224,\n",
       "  164,\n",
       "  175,\n",
       "  224,\n",
       "  164,\n",
       "  168,\n",
       "  32,\n",
       "  224,\n",
       "  164,\n",
       "  181,\n",
       "  224,\n",
       "  164,\n",
       "  191,\n",
       "  224,\n",
       "  164,\n",
       "  156,\n",
       "  224,\n",
       "  165,\n",
       "  141,\n",
       "  224,\n",
       "  164,\n",
       "  158,\n",
       "  224,\n",
       "  164,\n",
       "  190,\n",
       "  224,\n",
       "  164,\n",
       "  168],\n",
       " 226)"
      ]
     },
     "execution_count": 13,
     "metadata": {},
     "output_type": "execute_result"
    }
   ],
   "source": [
    "l = list(\"सिनेमा बीसवीं शताब्दी की सर्वाधिक लोकप्रिय कला है जिसे प्रकाश विज्ञान, रसायन विज्ञान\".encode('utf-8'))\n",
    "l, len(l)"
   ]
  },
  {
   "cell_type": "code",
   "execution_count": 16,
   "id": "115288bb-f67c-459c-823f-a6709be121f3",
   "metadata": {},
   "outputs": [
    {
     "data": {
      "text/plain": [
       "[224,\n",
       " 164,\n",
       " 184,\n",
       " 224,\n",
       " 164,\n",
       " 191,\n",
       " 224,\n",
       " 164,\n",
       " 168,\n",
       " 224,\n",
       " 165,\n",
       " 135,\n",
       " 224,\n",
       " 164,\n",
       " 174,\n",
       " 224,\n",
       " 164,\n",
       " 190,\n",
       " 32,\n",
       " 224,\n",
       " 164,\n",
       " 172,\n",
       " 224,\n",
       " 165,\n",
       " 128,\n",
       " 224,\n",
       " 164,\n",
       " 184,\n",
       " 224,\n",
       " 164,\n",
       " 181,\n",
       " 224,\n",
       " 165,\n",
       " 128,\n",
       " 224,\n",
       " 164,\n",
       " 130,\n",
       " 32,\n",
       " 224,\n",
       " 164,\n",
       " 182,\n",
       " 224,\n",
       " 164,\n",
       " 164,\n",
       " 224,\n",
       " 164,\n",
       " 190,\n",
       " 224,\n",
       " 164,\n",
       " 172,\n",
       " 224,\n",
       " 165,\n",
       " 141,\n",
       " 224,\n",
       " 164,\n",
       " 166,\n",
       " 224,\n",
       " 165,\n",
       " 128,\n",
       " 32,\n",
       " 224,\n",
       " 164,\n",
       " 149,\n",
       " 224,\n",
       " 165,\n",
       " 128,\n",
       " 32,\n",
       " 224,\n",
       " 164,\n",
       " 184,\n",
       " 224,\n",
       " 164,\n",
       " 176,\n",
       " 224,\n",
       " 165,\n",
       " 141,\n",
       " 224,\n",
       " 164,\n",
       " 181,\n",
       " 224,\n",
       " 164,\n",
       " 190,\n",
       " 224,\n",
       " 164,\n",
       " 167,\n",
       " 224,\n",
       " 164,\n",
       " 191,\n",
       " 224,\n",
       " 164,\n",
       " 149,\n",
       " 32,\n",
       " 224,\n",
       " 164,\n",
       " 178,\n",
       " 224,\n",
       " 165,\n",
       " 139,\n",
       " 224,\n",
       " 164,\n",
       " 149,\n",
       " 224,\n",
       " 164,\n",
       " 170,\n",
       " 224,\n",
       " 165,\n",
       " 141,\n",
       " 224,\n",
       " 164,\n",
       " 176,\n",
       " 224,\n",
       " 164,\n",
       " 191,\n",
       " 224,\n",
       " 164,\n",
       " 175,\n",
       " 32,\n",
       " 224,\n",
       " 164,\n",
       " 149,\n",
       " 224,\n",
       " 164,\n",
       " 178,\n",
       " 224,\n",
       " 164,\n",
       " 190,\n",
       " 32,\n",
       " 224,\n",
       " 164,\n",
       " 185,\n",
       " 224,\n",
       " 165,\n",
       " 136,\n",
       " 32,\n",
       " 224,\n",
       " 164,\n",
       " 156,\n",
       " 224,\n",
       " 164,\n",
       " 191,\n",
       " 224,\n",
       " 164,\n",
       " 184,\n",
       " 224,\n",
       " 165,\n",
       " 135,\n",
       " 32,\n",
       " 224,\n",
       " 164,\n",
       " 170,\n",
       " 224,\n",
       " 165,\n",
       " 141,\n",
       " 224,\n",
       " 164,\n",
       " 176,\n",
       " 224,\n",
       " 164,\n",
       " 149,\n",
       " 224,\n",
       " 164,\n",
       " 190,\n",
       " 224,\n",
       " 164,\n",
       " 182,\n",
       " 32,\n",
       " 224,\n",
       " 164,\n",
       " 181,\n",
       " 224,\n",
       " 164,\n",
       " 191,\n",
       " 224,\n",
       " 164,\n",
       " 156,\n",
       " 224,\n",
       " 165,\n",
       " 141,\n",
       " 224,\n",
       " 164,\n",
       " 158,\n",
       " 224,\n",
       " 164,\n",
       " 190,\n",
       " 224,\n",
       " 164,\n",
       " 168,\n",
       " 44,\n",
       " 32,\n",
       " 224,\n",
       " 164,\n",
       " 176,\n",
       " 224,\n",
       " 164,\n",
       " 184,\n",
       " 224,\n",
       " 164,\n",
       " 190,\n",
       " 224,\n",
       " 164,\n",
       " 175,\n",
       " 224,\n",
       " 164,\n",
       " 168,\n",
       " 32,\n",
       " 224,\n",
       " 164,\n",
       " 181,\n",
       " 224,\n",
       " 164,\n",
       " 191,\n",
       " 224,\n",
       " 164,\n",
       " 156,\n",
       " 224,\n",
       " 165,\n",
       " 141,\n",
       " 224,\n",
       " 164,\n",
       " 158,\n",
       " 224,\n",
       " 164,\n",
       " 190,\n",
       " 224,\n",
       " 164,\n",
       " 168]"
      ]
     },
     "execution_count": 16,
     "metadata": {},
     "output_type": "execute_result"
    }
   ],
   "source": [
    "text = \"सिनेमा बीसवीं शताब्दी की सर्वाधिक लोकप्रिय कला है जिसे प्रकाश विज्ञान, रसायन विज्ञान\"\n",
    "tokens = text.encode('utf-8')\n",
    "tokens = list(map(int, tokens))\n",
    "tokens"
   ]
  },
  {
   "cell_type": "code",
   "execution_count": 17,
   "id": "81dd9069-9e36-438a-8e67-f2f2c766dbe7",
   "metadata": {},
   "outputs": [
    {
     "name": "stdout",
     "output_type": "stream",
     "text": [
      "2352\n"
     ]
    },
    {
     "data": {
      "text/plain": [
       "([224, 164, 176], 3)"
      ]
     },
     "execution_count": 17,
     "metadata": {},
     "output_type": "execute_result"
    }
   ],
   "source": [
    "print(ord(\"र\"))\n",
    "l = list(\"र\".encode('utf-8'))\n",
    "l, len(l)"
   ]
  },
  {
   "cell_type": "code",
   "execution_count": 27,
   "id": "421011b3-cec1-4562-8ec2-b465581f5491",
   "metadata": {},
   "outputs": [
    {
     "name": "stdout",
     "output_type": "stream",
     "text": [
      "{(224, 164): 57, (164, 184): 5, (184, 224): 5, (164, 191): 6, (191, 224): 6, (164, 168): 4, (168, 224): 1, (224, 165): 14, (165, 135): 2, (135, 224): 1, (164, 174): 1, (174, 224): 1, (164, 190): 8, (190, 32): 2, (32, 224): 12, (164, 172): 2, (172, 224): 2, (165, 128): 4, (128, 224): 2, (164, 181): 4, (181, 224): 4, (164, 130): 1, (130, 32): 1, (164, 182): 2, (182, 224): 1, (164, 164): 1, (164, 224): 1, (190, 224): 6, (165, 141): 6, (141, 224): 6, (164, 166): 1, (166, 224): 1, (128, 32): 2, (164, 149): 5, (149, 224): 4, (164, 176): 4, (176, 224): 4, (164, 167): 1, (167, 224): 1, (149, 32): 1, (164, 178): 2, (178, 224): 2, (165, 139): 1, (139, 224): 1, (164, 170): 2, (170, 224): 2, (164, 175): 2, (175, 32): 1, (164, 185): 1, (185, 224): 1, (165, 136): 1, (136, 32): 1, (164, 156): 3, (156, 224): 3, (135, 32): 1, (182, 32): 1, (164, 158): 2, (158, 224): 2, (168, 44): 1, (44, 32): 1, (175, 224): 1, (168, 32): 1}\n",
      "[(57, (224, 164)), (14, (224, 165)), (12, (32, 224)), (8, (164, 190)), (6, (191, 224)), (6, (190, 224)), (6, (165, 141)), (6, (164, 191)), (6, (141, 224)), (5, (184, 224)), (5, (164, 184)), (5, (164, 149)), (4, (181, 224)), (4, (176, 224)), (4, (165, 128)), (4, (164, 181)), (4, (164, 176)), (4, (164, 168)), (4, (149, 224)), (3, (164, 156)), (3, (156, 224)), (2, (190, 32)), (2, (178, 224)), (2, (172, 224)), (2, (170, 224)), (2, (165, 135)), (2, (164, 182)), (2, (164, 178)), (2, (164, 175)), (2, (164, 172)), (2, (164, 170)), (2, (164, 158)), (2, (158, 224)), (2, (128, 224)), (2, (128, 32)), (1, (185, 224)), (1, (182, 224)), (1, (182, 32)), (1, (175, 224)), (1, (175, 32)), (1, (174, 224)), (1, (168, 224)), (1, (168, 44)), (1, (168, 32)), (1, (167, 224)), (1, (166, 224)), (1, (165, 139)), (1, (165, 136)), (1, (164, 224)), (1, (164, 185)), (1, (164, 174)), (1, (164, 167)), (1, (164, 166)), (1, (164, 164)), (1, (164, 130)), (1, (149, 32)), (1, (139, 224)), (1, (136, 32)), (1, (135, 224)), (1, (135, 32)), (1, (130, 32)), (1, (44, 32))]\n"
     ]
    }
   ],
   "source": [
    "def get_stats(ids):\n",
    "    counts = {}\n",
    "    for pair in zip(ids, ids[1:]):\n",
    "        counts[pair] = counts.get(pair, 0) + 1\n",
    "    return counts\n",
    "\n",
    "stats = get_stats(tokens)\n",
    "print(stats)\n",
    "print(sorted(((v,k) for k,v in stats.items()), reverse=True))"
   ]
  },
  {
   "cell_type": "code",
   "execution_count": 28,
   "id": "df775b4c-0699-4f6f-a920-55a107d1d82e",
   "metadata": {},
   "outputs": [
    {
     "data": {
      "text/plain": [
       "(224, 164)"
      ]
     },
     "execution_count": 28,
     "metadata": {},
     "output_type": "execute_result"
    }
   ],
   "source": [
    "top_pair = max(stats, key=stats.get)\n",
    "top_pair"
   ]
  },
  {
   "cell_type": "code",
   "execution_count": 29,
   "id": "e7199245-6bff-447b-b2cf-bf3109a864fe",
   "metadata": {},
   "outputs": [
    {
     "data": {
      "text/plain": [
       "('à', '£')"
      ]
     },
     "execution_count": 29,
     "metadata": {},
     "output_type": "execute_result"
    }
   ],
   "source": [
    "chr(224), chr(163)"
   ]
  },
  {
   "cell_type": "code",
   "execution_count": 31,
   "id": "1b716af9-debf-4a24-990c-e8df66391dd6",
   "metadata": {},
   "outputs": [
    {
     "name": "stdout",
     "output_type": "stream",
     "text": [
      "[5, 6, 99, 9, 1]\n",
      "[256, 184, 256, 191, 256, 168, 224, 165, 135, 256, 174, 256, 190, 32, 256, 172, 224, 165, 128, 256, 184, 256, 181, 224, 165, 128, 256, 130, 32, 256, 182, 256, 164, 256, 190, 256, 172, 224, 165, 141, 256, 166, 224, 165, 128, 32, 256, 149, 224, 165, 128, 32, 256, 184, 256, 176, 224, 165, 141, 256, 181, 256, 190, 256, 167, 256, 191, 256, 149, 32, 256, 178, 224, 165, 139, 256, 149, 256, 170, 224, 165, 141, 256, 176, 256, 191, 256, 175, 32, 256, 149, 256, 178, 256, 190, 32, 256, 185, 224, 165, 136, 32, 256, 156, 256, 191, 256, 184, 224, 165, 135, 32, 256, 170, 224, 165, 141, 256, 176, 256, 149, 256, 190, 256, 182, 32, 256, 181, 256, 191, 256, 156, 224, 165, 141, 256, 158, 256, 190, 256, 168, 44, 32, 256, 176, 256, 184, 256, 190, 256, 175, 256, 168, 32, 256, 181, 256, 191, 256, 156, 224, 165, 141, 256, 158, 256, 190, 256, 168]\n",
      "length:  169 226\n"
     ]
    }
   ],
   "source": [
    "def merge(ids, pair, idx):\n",
    "    # in the list of ints (ids), replace all the consecutive occurences of pair with the new token\n",
    "    newids = []\n",
    "    i = 0\n",
    "    while i < len(ids):\n",
    "        # if we are not at the very last postion and the pair matches, replace it\n",
    "        if i < len(ids) - 1 and ids [i] == pair[0] and ids[i+1] == pair[1]:\n",
    "            newids.append(idx)\n",
    "            i += 2\n",
    "        else:\n",
    "            newids.append(ids[i])\n",
    "            i += 1\n",
    "    return newids\n",
    "\n",
    "\n",
    "print(merge([5,6,6,7,9,1], (6,7), 99))\n",
    "# replace the top pair in the list of tokens with 256\n",
    "tokens2 = merge(tokens, top_pair, 256)\n",
    "\n",
    "print(tokens2)\n",
    "print(\"length: \", len(tokens2), len(tokens))"
   ]
  },
  {
   "cell_type": "code",
   "execution_count": null,
   "id": "8a6aef92-9bfb-40fe-a83c-4b9a8ff9979d",
   "metadata": {},
   "outputs": [],
   "source": [
    "text = \"\"\n",
    "tokens - text.encode('utf-8')\n",
    "tokens = list(map(int, tokens))"
   ]
  },
  {
   "cell_type": "code",
   "execution_count": null,
   "id": "efdc1aaa-a993-4a28-823e-50fd14027d44",
   "metadata": {},
   "outputs": [],
   "source": [
    "vocab_size = 276 # desired vocab size\n",
    "num_merges = vocab_size - 256\n",
    "ids = list(tokens) # copy so we dont destroy the original list\n",
    "\n",
    "merges = {} (int, int) -> int\n",
    "for i in range(num_merges):\n",
    "    stats = get_stats(ids)\n",
    "    pair = max(stats, key = stats.get)\n",
    "    idx = 256 + i\n",
    "    print(f\"merging {pair} into a new token {idx\")\n",
    "    ids = merge(ids, pair ,idx)\n",
    "    merges[pair] = idx"
   ]
  },
  {
   "cell_type": "code",
   "execution_count": null,
   "id": "5b9a54c6-01ff-437d-af17-10679072ca58",
   "metadata": {},
   "outputs": [],
   "source": [
    "print(\"token length: \", len(tokens))\n",
    "print(\"ids length: \", len(ids))\n",
    "print(f\"compression ratio: \", {len(tokens)/ len(ids):.2f}x)"
   ]
  },
  {
   "cell_type": "markdown",
   "id": "cb510889-28ab-4b20-a8b7-ba3973c58a75",
   "metadata": {},
   "source": [
    "Decoding: given a sequence of integers in teh range[0, vocab_size], what is the text"
   ]
  },
  {
   "cell_type": "code",
   "execution_count": 32,
   "id": "915cfddf-7572-4261-b63c-c7b7a8dd223d",
   "metadata": {},
   "outputs": [
    {
     "ename": "NameError",
     "evalue": "name 'merges' is not defined",
     "output_type": "error",
     "traceback": [
      "\u001b[1;31m---------------------------------------------------------------------------\u001b[0m",
      "\u001b[1;31mNameError\u001b[0m                                 Traceback (most recent call last)",
      "Cell \u001b[1;32mIn[32], line 2\u001b[0m\n\u001b[0;32m      1\u001b[0m vocab \u001b[38;5;241m=\u001b[39m {idx: \u001b[38;5;28mbytes\u001b[39m([idx]) \u001b[38;5;28;01mfor\u001b[39;00m idx \u001b[38;5;129;01min\u001b[39;00m \u001b[38;5;28mrange\u001b[39m(\u001b[38;5;241m256\u001b[39m)}\n\u001b[1;32m----> 2\u001b[0m \u001b[38;5;28;01mfor\u001b[39;00m (p0, p1), idx \u001b[38;5;129;01min\u001b[39;00m \u001b[43mmerges\u001b[49m\u001b[38;5;241m.\u001b[39mitems():\n\u001b[0;32m      3\u001b[0m     vocab[idx] \u001b[38;5;241m=\u001b[39m vocav[p0] \u001b[38;5;241m+\u001b[39m vocab[p1]\n\u001b[0;32m      5\u001b[0m \u001b[38;5;28;01mdef\u001b[39;00m \u001b[38;5;21mdecode\u001b[39m(ids):\n",
      "\u001b[1;31mNameError\u001b[0m: name 'merges' is not defined"
     ]
    }
   ],
   "source": [
    "vocab = {idx: bytes([idx]) for idx in range(256)}\n",
    "for (p0, p1), idx in merges.items():\n",
    "    vocab[idx] = vocav[p0] + vocab[p1]\n",
    "\n",
    "def decode(ids):\n",
    "    tokens = b\"\".join(vocab[idx] for idx in ids)\n",
    "    text = tokens.decode('utf-8', errors=\"replace\")\n",
    "    return text\n",
    "\n",
    "print(decode(130))\n"
   ]
  },
  {
   "cell_type": "markdown",
   "id": "37d2ee77-32d9-479b-b896-5d57dab47065",
   "metadata": {},
   "source": [
    "Encode"
   ]
  },
  {
   "cell_type": "code",
   "execution_count": null,
   "id": "eab7d8f7-613e-4f81-98ed-af3a6b755ebb",
   "metadata": {},
   "outputs": [],
   "source": [
    "def encode(text):\n",
    "    tokens = list(text.encode('utf-8'))\n",
    "    while len(tokens) >= 2:\n",
    "        stats = get_stats(tokens)\n",
    "        pair = min(stats, key=lambda p:merges.get(p, float('inf')))\n",
    "        if pair not in merges:\n",
    "            break\n",
    "        idx = merges[pair]\n",
    "        tokens = merge(tokens, pair, idx)\n",
    "    return tokens\n",
    "\n",
    "encode(\"\")"
   ]
  },
  {
   "cell_type": "code",
   "execution_count": null,
   "id": "3d0f6829-dec6-4084-ac86-4774d13ccd7b",
   "metadata": {},
   "outputs": [],
   "source": [
    "text2 = decode(encode(text))\n",
    "print(text2 == text)"
   ]
  }
 ],
 "metadata": {
  "kernelspec": {
   "display_name": "Python 3 (ipykernel)",
   "language": "python",
   "name": "python3"
  },
  "language_info": {
   "codemirror_mode": {
    "name": "ipython",
    "version": 3
   },
   "file_extension": ".py",
   "mimetype": "text/x-python",
   "name": "python",
   "nbconvert_exporter": "python",
   "pygments_lexer": "ipython3",
   "version": "3.10.14"
  }
 },
 "nbformat": 4,
 "nbformat_minor": 5
}
